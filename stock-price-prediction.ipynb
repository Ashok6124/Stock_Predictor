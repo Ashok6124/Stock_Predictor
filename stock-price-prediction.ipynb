{
 "cells": [
  {
   "cell_type": "markdown",
   "id": "knowing-deposit",
   "metadata": {
    "papermill": {
     "duration": 0.02117,
     "end_time": "2023-08-27T08:59:29.645098",
     "exception": false,
     "start_time": "2023-08-27T08:59:29.623928",
     "status": "completed"
    },
    "tags": []
   },
   "source": [
    "## Stock Price Prediction"
   ]
  },
  {
   "cell_type": "code",
   "execution_count": 1,
   "id": "understood-poland",
   "metadata": {
    "execution": {
     "iopub.execute_input": "2023-08-27T08:59:29.686054Z",
     "iopub.status.busy": "2023-08-27T08:59:29.685562Z",
     "iopub.status.idle": "2023-08-27T08:59:30.639938Z",
     "shell.execute_reply": "2023-08-27T08:59:30.639207Z"
    },
    "papermill": {
     "duration": 0.975814,
     "end_time": "2023-08-27T08:59:30.640195",
     "exception": false,
     "start_time": "2023-08-27T08:59:29.664381",
     "status": "completed"
    },
    "tags": []
   },
   "outputs": [],
   "source": [
    "#Importing all the required libraries\n",
    "\n",
    "import numpy as np\n",
    "import pandas as pd\n",
    "import matplotlib.pyplot as plt\n",
    "import seaborn as sns"
   ]
  },
  {
   "cell_type": "code",
   "execution_count": 2,
   "id": "developed-drain",
   "metadata": {
    "execution": {
     "iopub.execute_input": "2023-08-27T08:59:30.692577Z",
     "iopub.status.busy": "2023-08-27T08:59:30.691908Z",
     "iopub.status.idle": "2023-08-27T08:59:32.055507Z",
     "shell.execute_reply": "2023-08-27T08:59:32.054896Z"
    },
    "papermill": {
     "duration": 1.391466,
     "end_time": "2023-08-27T08:59:32.055637",
     "exception": false,
     "start_time": "2023-08-27T08:59:30.664171",
     "status": "completed"
    },
    "tags": []
   },
   "outputs": [],
   "source": [
    "# Importing dataset\n",
    "\n",
    "data = pd.read_csv(\"../input/nyse/prices-split-adjusted.csv\")\n",
    "df = pd.DataFrame(data)"
   ]
  },
  {
   "cell_type": "code",
   "execution_count": 3,
   "id": "bizarre-penguin",
   "metadata": {
    "execution": {
     "iopub.execute_input": "2023-08-27T08:59:32.098187Z",
     "iopub.status.busy": "2023-08-27T08:59:32.097482Z",
     "iopub.status.idle": "2023-08-27T08:59:32.132013Z",
     "shell.execute_reply": "2023-08-27T08:59:32.131540Z"
    },
    "papermill": {
     "duration": 0.056856,
     "end_time": "2023-08-27T08:59:32.132150",
     "exception": false,
     "start_time": "2023-08-27T08:59:32.075294",
     "status": "completed"
    },
    "tags": []
   },
   "outputs": [
    {
     "data": {
      "text/html": [
       "<div>\n",
       "<style scoped>\n",
       "    .dataframe tbody tr th:only-of-type {\n",
       "        vertical-align: middle;\n",
       "    }\n",
       "\n",
       "    .dataframe tbody tr th {\n",
       "        vertical-align: top;\n",
       "    }\n",
       "\n",
       "    .dataframe thead th {\n",
       "        text-align: right;\n",
       "    }\n",
       "</style>\n",
       "<table border=\"1\" class=\"dataframe\">\n",
       "  <thead>\n",
       "    <tr style=\"text-align: right;\">\n",
       "      <th></th>\n",
       "      <th>date</th>\n",
       "      <th>symbol</th>\n",
       "      <th>open</th>\n",
       "      <th>close</th>\n",
       "      <th>low</th>\n",
       "      <th>high</th>\n",
       "      <th>volume</th>\n",
       "    </tr>\n",
       "  </thead>\n",
       "  <tbody>\n",
       "    <tr>\n",
       "      <th>0</th>\n",
       "      <td>2016-01-05</td>\n",
       "      <td>WLTW</td>\n",
       "      <td>123.430000</td>\n",
       "      <td>125.839996</td>\n",
       "      <td>122.309998</td>\n",
       "      <td>126.250000</td>\n",
       "      <td>2163600.0</td>\n",
       "    </tr>\n",
       "    <tr>\n",
       "      <th>1</th>\n",
       "      <td>2016-01-06</td>\n",
       "      <td>WLTW</td>\n",
       "      <td>125.239998</td>\n",
       "      <td>119.980003</td>\n",
       "      <td>119.940002</td>\n",
       "      <td>125.540001</td>\n",
       "      <td>2386400.0</td>\n",
       "    </tr>\n",
       "    <tr>\n",
       "      <th>2</th>\n",
       "      <td>2016-01-07</td>\n",
       "      <td>WLTW</td>\n",
       "      <td>116.379997</td>\n",
       "      <td>114.949997</td>\n",
       "      <td>114.930000</td>\n",
       "      <td>119.739998</td>\n",
       "      <td>2489500.0</td>\n",
       "    </tr>\n",
       "    <tr>\n",
       "      <th>3</th>\n",
       "      <td>2016-01-08</td>\n",
       "      <td>WLTW</td>\n",
       "      <td>115.480003</td>\n",
       "      <td>116.620003</td>\n",
       "      <td>113.500000</td>\n",
       "      <td>117.440002</td>\n",
       "      <td>2006300.0</td>\n",
       "    </tr>\n",
       "    <tr>\n",
       "      <th>4</th>\n",
       "      <td>2016-01-11</td>\n",
       "      <td>WLTW</td>\n",
       "      <td>117.010002</td>\n",
       "      <td>114.970001</td>\n",
       "      <td>114.089996</td>\n",
       "      <td>117.330002</td>\n",
       "      <td>1408600.0</td>\n",
       "    </tr>\n",
       "  </tbody>\n",
       "</table>\n",
       "</div>"
      ],
      "text/plain": [
       "         date symbol        open       close         low        high  \\\n",
       "0  2016-01-05   WLTW  123.430000  125.839996  122.309998  126.250000   \n",
       "1  2016-01-06   WLTW  125.239998  119.980003  119.940002  125.540001   \n",
       "2  2016-01-07   WLTW  116.379997  114.949997  114.930000  119.739998   \n",
       "3  2016-01-08   WLTW  115.480003  116.620003  113.500000  117.440002   \n",
       "4  2016-01-11   WLTW  117.010002  114.970001  114.089996  117.330002   \n",
       "\n",
       "      volume  \n",
       "0  2163600.0  \n",
       "1  2386400.0  \n",
       "2  2489500.0  \n",
       "3  2006300.0  \n",
       "4  1408600.0  "
      ]
     },
     "execution_count": 3,
     "metadata": {},
     "output_type": "execute_result"
    }
   ],
   "source": [
    "df.head()"
   ]
  },
  {
   "cell_type": "markdown",
   "id": "single-recognition",
   "metadata": {
    "papermill": {
     "duration": 0.019182,
     "end_time": "2023-08-27T08:59:32.171751",
     "exception": false,
     "start_time": "2023-08-27T08:59:32.152569",
     "status": "completed"
    },
    "tags": []
   },
   "source": [
    "### Data Information"
   ]
  },
  {
   "cell_type": "code",
   "execution_count": 4,
   "id": "chubby-conviction",
   "metadata": {
    "execution": {
     "iopub.execute_input": "2023-08-27T08:59:32.226464Z",
     "iopub.status.busy": "2023-08-27T08:59:32.215471Z",
     "iopub.status.idle": "2023-08-27T08:59:32.365705Z",
     "shell.execute_reply": "2023-08-27T08:59:32.365132Z"
    },
    "papermill": {
     "duration": 0.174321,
     "end_time": "2023-08-27T08:59:32.365853",
     "exception": false,
     "start_time": "2023-08-27T08:59:32.191532",
     "status": "completed"
    },
    "tags": []
   },
   "outputs": [
    {
     "data": {
      "text/html": [
       "<div>\n",
       "<style scoped>\n",
       "    .dataframe tbody tr th:only-of-type {\n",
       "        vertical-align: middle;\n",
       "    }\n",
       "\n",
       "    .dataframe tbody tr th {\n",
       "        vertical-align: top;\n",
       "    }\n",
       "\n",
       "    .dataframe thead th {\n",
       "        text-align: right;\n",
       "    }\n",
       "</style>\n",
       "<table border=\"1\" class=\"dataframe\">\n",
       "  <thead>\n",
       "    <tr style=\"text-align: right;\">\n",
       "      <th></th>\n",
       "      <th>open</th>\n",
       "      <th>close</th>\n",
       "      <th>low</th>\n",
       "      <th>high</th>\n",
       "      <th>volume</th>\n",
       "    </tr>\n",
       "  </thead>\n",
       "  <tbody>\n",
       "    <tr>\n",
       "      <th>count</th>\n",
       "      <td>851264.000000</td>\n",
       "      <td>851264.000000</td>\n",
       "      <td>851264.000000</td>\n",
       "      <td>851264.000000</td>\n",
       "      <td>8.512640e+05</td>\n",
       "    </tr>\n",
       "    <tr>\n",
       "      <th>mean</th>\n",
       "      <td>64.993618</td>\n",
       "      <td>65.011913</td>\n",
       "      <td>64.336541</td>\n",
       "      <td>65.639748</td>\n",
       "      <td>5.415113e+06</td>\n",
       "    </tr>\n",
       "    <tr>\n",
       "      <th>std</th>\n",
       "      <td>75.203893</td>\n",
       "      <td>75.201216</td>\n",
       "      <td>74.459518</td>\n",
       "      <td>75.906861</td>\n",
       "      <td>1.249468e+07</td>\n",
       "    </tr>\n",
       "    <tr>\n",
       "      <th>min</th>\n",
       "      <td>1.660000</td>\n",
       "      <td>1.590000</td>\n",
       "      <td>1.500000</td>\n",
       "      <td>1.810000</td>\n",
       "      <td>0.000000e+00</td>\n",
       "    </tr>\n",
       "    <tr>\n",
       "      <th>25%</th>\n",
       "      <td>31.270000</td>\n",
       "      <td>31.292776</td>\n",
       "      <td>30.940001</td>\n",
       "      <td>31.620001</td>\n",
       "      <td>1.221500e+06</td>\n",
       "    </tr>\n",
       "    <tr>\n",
       "      <th>50%</th>\n",
       "      <td>48.459999</td>\n",
       "      <td>48.480000</td>\n",
       "      <td>47.970001</td>\n",
       "      <td>48.959999</td>\n",
       "      <td>2.476250e+06</td>\n",
       "    </tr>\n",
       "    <tr>\n",
       "      <th>75%</th>\n",
       "      <td>75.120003</td>\n",
       "      <td>75.139999</td>\n",
       "      <td>74.400002</td>\n",
       "      <td>75.849998</td>\n",
       "      <td>5.222500e+06</td>\n",
       "    </tr>\n",
       "    <tr>\n",
       "      <th>max</th>\n",
       "      <td>1584.439941</td>\n",
       "      <td>1578.130005</td>\n",
       "      <td>1549.939941</td>\n",
       "      <td>1600.930054</td>\n",
       "      <td>8.596434e+08</td>\n",
       "    </tr>\n",
       "  </tbody>\n",
       "</table>\n",
       "</div>"
      ],
      "text/plain": [
       "                open          close            low           high  \\\n",
       "count  851264.000000  851264.000000  851264.000000  851264.000000   \n",
       "mean       64.993618      65.011913      64.336541      65.639748   \n",
       "std        75.203893      75.201216      74.459518      75.906861   \n",
       "min         1.660000       1.590000       1.500000       1.810000   \n",
       "25%        31.270000      31.292776      30.940001      31.620001   \n",
       "50%        48.459999      48.480000      47.970001      48.959999   \n",
       "75%        75.120003      75.139999      74.400002      75.849998   \n",
       "max      1584.439941    1578.130005    1549.939941    1600.930054   \n",
       "\n",
       "             volume  \n",
       "count  8.512640e+05  \n",
       "mean   5.415113e+06  \n",
       "std    1.249468e+07  \n",
       "min    0.000000e+00  \n",
       "25%    1.221500e+06  \n",
       "50%    2.476250e+06  \n",
       "75%    5.222500e+06  \n",
       "max    8.596434e+08  "
      ]
     },
     "execution_count": 4,
     "metadata": {},
     "output_type": "execute_result"
    }
   ],
   "source": [
    "df.describe()"
   ]
  },
  {
   "cell_type": "code",
   "execution_count": 5,
   "id": "extraordinary-cologne",
   "metadata": {
    "execution": {
     "iopub.execute_input": "2023-08-27T08:59:32.437342Z",
     "iopub.status.busy": "2023-08-27T08:59:32.436645Z",
     "iopub.status.idle": "2023-08-27T08:59:32.477061Z",
     "shell.execute_reply": "2023-08-27T08:59:32.476416Z"
    },
    "papermill": {
     "duration": 0.090229,
     "end_time": "2023-08-27T08:59:32.477208",
     "exception": false,
     "start_time": "2023-08-27T08:59:32.386979",
     "status": "completed"
    },
    "tags": []
   },
   "outputs": [
    {
     "name": "stdout",
     "output_type": "stream",
     "text": [
      "date \t-\t 0.0\n",
      "symbol \t-\t 0.0\n",
      "open \t-\t 0.0\n",
      "close \t-\t 0.0\n",
      "low \t-\t 0.0\n",
      "high \t-\t 0.0\n",
      "volume \t-\t 0.0\n"
     ]
    }
   ],
   "source": [
    "# showing column wise %ge of NaN values they contains \n",
    "\n",
    "for i in df.columns:\n",
    "  print(i,\"\\t-\\t\", df[i].isna().mean()*100)\n"
   ]
  },
  {
   "cell_type": "markdown",
   "id": "sorted-museum",
   "metadata": {
    "papermill": {
     "duration": 0.021103,
     "end_time": "2023-08-27T08:59:32.519797",
     "exception": false,
     "start_time": "2023-08-27T08:59:32.498694",
     "status": "completed"
    },
    "tags": []
   },
   "source": [
    "> Since there is no null valus, we can move further "
   ]
  },
  {
   "cell_type": "code",
   "execution_count": 6,
   "id": "fluid-brief",
   "metadata": {
    "execution": {
     "iopub.execute_input": "2023-08-27T08:59:32.616960Z",
     "iopub.status.busy": "2023-08-27T08:59:32.616157Z",
     "iopub.status.idle": "2023-08-27T08:59:32.882635Z",
     "shell.execute_reply": "2023-08-27T08:59:32.881926Z"
    },
    "papermill": {
     "duration": 0.341699,
     "end_time": "2023-08-27T08:59:32.882769",
     "exception": false,
     "start_time": "2023-08-27T08:59:32.541070",
     "status": "completed"
    },
    "tags": []
   },
   "outputs": [
    {
     "data": {
      "text/plain": [
       "<AxesSubplot:>"
      ]
     },
     "execution_count": 6,
     "metadata": {},
     "output_type": "execute_result"
    },
    {
     "data": {
      "image/png": "[encoded data removed]",
      "text/plain": [
       "<Figure size 360x360 with 2 Axes>"
      ]
     },
     "metadata": {
      "needs_background": "light"
     },
     "output_type": "display_data"
    }
   ],
   "source": [
    "df = df[df['symbol']=='AAP']   # Choosin stock values for any company \n",
    "\n",
    "cormap = df.corr()\n",
    "fig, ax = plt.subplots(figsize=(5,5))\n",
    "sns.heatmap(cormap, annot = True)"
   ]
  },
  {
   "cell_type": "code",
   "execution_count": 7,
   "id": "mysterious-symbol",
   "metadata": {
    "execution": {
     "iopub.execute_input": "2023-08-27T08:59:32.932858Z",
     "iopub.status.busy": "2023-08-27T08:59:32.932234Z",
     "iopub.status.idle": "2023-08-27T08:59:32.934398Z",
     "shell.execute_reply": "2023-08-27T08:59:32.934894Z"
    },
    "papermill": {
     "duration": 0.030459,
     "end_time": "2023-08-27T08:59:32.935108",
     "exception": false,
     "start_time": "2023-08-27T08:59:32.904649",
     "status": "completed"
    },
    "tags": []
   },
   "outputs": [],
   "source": [
    "def get_corelated_col(cor_dat, threshold): \n",
    "  # Cor_data to be column along which corelation to be measured \n",
    "  #Threshold be the value above which of corelation to considered\n",
    "  feature=[]\n",
    "  value=[]\n",
    "\n",
    "  for i ,index in enumerate(cor_dat.index):\n",
    "    if abs(cor_dat[index]) > threshold:\n",
    "      feature.append(index)\n",
    "      value.append(cor_dat[index])\n",
    "\n",
    "  df = pd.DataFrame(data = value, index = feature, columns=['corr value'])\n",
    "  return df\n"
   ]
  },
  {
   "cell_type": "code",
   "execution_count": 8,
   "id": "alpine-greek",
   "metadata": {
    "execution": {
     "iopub.execute_input": "2023-08-27T08:59:32.980762Z",
     "iopub.status.busy": "2023-08-27T08:59:32.980274Z",
     "iopub.status.idle": "2023-08-27T08:59:32.988478Z",
     "shell.execute_reply": "2023-08-27T08:59:32.988900Z"
    },
    "papermill": {
     "duration": 0.032458,
     "end_time": "2023-08-27T08:59:32.989099",
     "exception": false,
     "start_time": "2023-08-27T08:59:32.956641",
     "status": "completed"
    },
    "tags": []
   },
   "outputs": [
    {
     "data": {
      "text/html": [
       "<div>\n",
       "<style scoped>\n",
       "    .dataframe tbody tr th:only-of-type {\n",
       "        vertical-align: middle;\n",
       "    }\n",
       "\n",
       "    .dataframe tbody tr th {\n",
       "        vertical-align: top;\n",
       "    }\n",
       "\n",
       "    .dataframe thead th {\n",
       "        text-align: right;\n",
       "    }\n",
       "</style>\n",
       "<table border=\"1\" class=\"dataframe\">\n",
       "  <thead>\n",
       "    <tr style=\"text-align: right;\">\n",
       "      <th></th>\n",
       "      <th>corr value</th>\n",
       "    </tr>\n",
       "  </thead>\n",
       "  <tbody>\n",
       "    <tr>\n",
       "      <th>open</th>\n",
       "      <td>0.999382</td>\n",
       "    </tr>\n",
       "    <tr>\n",
       "      <th>close</th>\n",
       "      <td>1.000000</td>\n",
       "    </tr>\n",
       "    <tr>\n",
       "      <th>low</th>\n",
       "      <td>0.999615</td>\n",
       "    </tr>\n",
       "    <tr>\n",
       "      <th>high</th>\n",
       "      <td>0.999737</td>\n",
       "    </tr>\n",
       "  </tbody>\n",
       "</table>\n",
       "</div>"
      ],
      "text/plain": [
       "       corr value\n",
       "open     0.999382\n",
       "close    1.000000\n",
       "low      0.999615\n",
       "high     0.999737"
      ]
     },
     "execution_count": 8,
     "metadata": {},
     "output_type": "execute_result"
    }
   ],
   "source": [
    "top_corelated_values = get_corelated_col(cormap['close'], 0.60)\n",
    "top_corelated_values"
   ]
  },
  {
   "cell_type": "markdown",
   "id": "threatened-medication",
   "metadata": {
    "papermill": {
     "duration": 0.021133,
     "end_time": "2023-08-27T08:59:33.031608",
     "exception": false,
     "start_time": "2023-08-27T08:59:33.010475",
     "status": "completed"
    },
    "tags": []
   },
   "source": [
    "> Looks like all colums except _volume_ are ***highly co-related***. Using them for predictions."
   ]
  },
  {
   "cell_type": "code",
   "execution_count": 9,
   "id": "ruled-commons",
   "metadata": {
    "execution": {
     "iopub.execute_input": "2023-08-27T08:59:33.078505Z",
     "iopub.status.busy": "2023-08-27T08:59:33.077849Z",
     "iopub.status.idle": "2023-08-27T08:59:33.090619Z",
     "shell.execute_reply": "2023-08-27T08:59:33.090006Z"
    },
    "papermill": {
     "duration": 0.037099,
     "end_time": "2023-08-27T08:59:33.090761",
     "exception": false,
     "start_time": "2023-08-27T08:59:33.053662",
     "status": "completed"
    },
    "tags": []
   },
   "outputs": [
    {
     "data": {
      "text/html": [
       "<div>\n",
       "<style scoped>\n",
       "    .dataframe tbody tr th:only-of-type {\n",
       "        vertical-align: middle;\n",
       "    }\n",
       "\n",
       "    .dataframe tbody tr th {\n",
       "        vertical-align: top;\n",
       "    }\n",
       "\n",
       "    .dataframe thead th {\n",
       "        text-align: right;\n",
       "    }\n",
       "</style>\n",
       "<table border=\"1\" class=\"dataframe\">\n",
       "  <thead>\n",
       "    <tr style=\"text-align: right;\">\n",
       "      <th></th>\n",
       "      <th>open</th>\n",
       "      <th>close</th>\n",
       "      <th>low</th>\n",
       "      <th>high</th>\n",
       "    </tr>\n",
       "  </thead>\n",
       "  <tbody>\n",
       "    <tr>\n",
       "      <th>253</th>\n",
       "      <td>40.700001</td>\n",
       "      <td>40.380001</td>\n",
       "      <td>40.360001</td>\n",
       "      <td>41.040001</td>\n",
       "    </tr>\n",
       "    <tr>\n",
       "      <th>720</th>\n",
       "      <td>40.299999</td>\n",
       "      <td>40.139999</td>\n",
       "      <td>39.720001</td>\n",
       "      <td>40.310001</td>\n",
       "    </tr>\n",
       "    <tr>\n",
       "      <th>1188</th>\n",
       "      <td>40.049999</td>\n",
       "      <td>40.490002</td>\n",
       "      <td>40.049999</td>\n",
       "      <td>40.779999</td>\n",
       "    </tr>\n",
       "    <tr>\n",
       "      <th>1656</th>\n",
       "      <td>39.549999</td>\n",
       "      <td>40.480000</td>\n",
       "      <td>39.549999</td>\n",
       "      <td>40.540001</td>\n",
       "    </tr>\n",
       "    <tr>\n",
       "      <th>2124</th>\n",
       "      <td>40.250000</td>\n",
       "      <td>40.639999</td>\n",
       "      <td>40.110001</td>\n",
       "      <td>40.820000</td>\n",
       "    </tr>\n",
       "  </tbody>\n",
       "</table>\n",
       "</div>"
      ],
      "text/plain": [
       "           open      close        low       high\n",
       "253   40.700001  40.380001  40.360001  41.040001\n",
       "720   40.299999  40.139999  39.720001  40.310001\n",
       "1188  40.049999  40.490002  40.049999  40.779999\n",
       "1656  39.549999  40.480000  39.549999  40.540001\n",
       "2124  40.250000  40.639999  40.110001  40.820000"
      ]
     },
     "execution_count": 9,
     "metadata": {},
     "output_type": "execute_result"
    }
   ],
   "source": [
    "df = df[top_corelated_values.index]\n",
    "df.head()"
   ]
  },
  {
   "cell_type": "code",
   "execution_count": 10,
   "id": "attempted-dynamics",
   "metadata": {
    "execution": {
     "iopub.execute_input": "2023-08-27T08:59:33.143032Z",
     "iopub.status.busy": "2023-08-27T08:59:33.142213Z",
     "iopub.status.idle": "2023-08-27T08:59:33.146563Z",
     "shell.execute_reply": "2023-08-27T08:59:33.147108Z"
    },
    "papermill": {
     "duration": 0.033006,
     "end_time": "2023-08-27T08:59:33.147291",
     "exception": false,
     "start_time": "2023-08-27T08:59:33.114285",
     "status": "completed"
    },
    "tags": []
   },
   "outputs": [
    {
     "data": {
      "text/plain": [
       "(1762, 4)"
      ]
     },
     "execution_count": 10,
     "metadata": {},
     "output_type": "execute_result"
    }
   ],
   "source": [
    "df.shape"
   ]
  },
  {
   "cell_type": "code",
   "execution_count": 11,
   "id": "controlling-condition",
   "metadata": {
    "execution": {
     "iopub.execute_input": "2023-08-27T08:59:33.198451Z",
     "iopub.status.busy": "2023-08-27T08:59:33.197758Z",
     "iopub.status.idle": "2023-08-27T08:59:35.807822Z",
     "shell.execute_reply": "2023-08-27T08:59:35.808821Z"
    },
    "papermill": {
     "duration": 2.6366,
     "end_time": "2023-08-27T08:59:35.809038",
     "exception": false,
     "start_time": "2023-08-27T08:59:33.172438",
     "status": "completed"
    },
    "tags": []
   },
   "outputs": [
    {
     "data": {
      "image/png": "[encoded data removed]",
      "text/plain": [
       "<Figure size 720x720 with 20 Axes>"
      ]
     },
     "metadata": {
      "needs_background": "light"
     },
     "output_type": "display_data"
    }
   ],
   "source": [
    "sns.pairplot(df)\n",
    "plt.tight_layout()"
   ]
  },
  {
   "cell_type": "markdown",
   "id": "prerequisite-cosmetic",
   "metadata": {
    "papermill": {
     "duration": 0.025295,
     "end_time": "2023-08-27T08:59:35.859783",
     "exception": false,
     "start_time": "2023-08-27T08:59:35.834488",
     "status": "completed"
    },
    "tags": []
   },
   "source": [
    "> Since other parameters have linear relationship with __close__, we are using some linear models fore prediction"
   ]
  },
  {
   "cell_type": "code",
   "execution_count": 12,
   "id": "three-sister",
   "metadata": {
    "execution": {
     "iopub.execute_input": "2023-08-27T08:59:35.917692Z",
     "iopub.status.busy": "2023-08-27T08:59:35.916793Z",
     "iopub.status.idle": "2023-08-27T08:59:35.921714Z",
     "shell.execute_reply": "2023-08-27T08:59:35.922262Z"
    },
    "papermill": {
     "duration": 0.034736,
     "end_time": "2023-08-27T08:59:35.922415",
     "exception": false,
     "start_time": "2023-08-27T08:59:35.887679",
     "status": "completed"
    },
    "tags": []
   },
   "outputs": [],
   "source": [
    "X = df.drop(['close'], axis=1)\n",
    "y = df['close']"
   ]
  },
  {
   "cell_type": "markdown",
   "id": "every-correlation",
   "metadata": {
    "papermill": {
     "duration": 0.024946,
     "end_time": "2023-08-27T08:59:35.972841",
     "exception": false,
     "start_time": "2023-08-27T08:59:35.947895",
     "status": "completed"
    },
    "tags": []
   },
   "source": [
    "> Since range of data in different columns veries significantly we need to scale the independent variable i.e. X. For this we will use Min-Max Scaling."
   ]
  },
  {
   "cell_type": "code",
   "execution_count": 13,
   "id": "protecting-elephant",
   "metadata": {
    "execution": {
     "iopub.execute_input": "2023-08-27T08:59:36.026236Z",
     "iopub.status.busy": "2023-08-27T08:59:36.025524Z",
     "iopub.status.idle": "2023-08-27T08:59:36.365699Z",
     "shell.execute_reply": "2023-08-27T08:59:36.365145Z"
    },
    "papermill": {
     "duration": 0.367749,
     "end_time": "2023-08-27T08:59:36.365858",
     "exception": false,
     "start_time": "2023-08-27T08:59:35.998109",
     "status": "completed"
    },
    "tags": []
   },
   "outputs": [
    {
     "data": {
      "text/html": [
       "<div>\n",
       "<style scoped>\n",
       "    .dataframe tbody tr th:only-of-type {\n",
       "        vertical-align: middle;\n",
       "    }\n",
       "\n",
       "    .dataframe tbody tr th {\n",
       "        vertical-align: top;\n",
       "    }\n",
       "\n",
       "    .dataframe thead th {\n",
       "        text-align: right;\n",
       "    }\n",
       "</style>\n",
       "<table border=\"1\" class=\"dataframe\">\n",
       "  <thead>\n",
       "    <tr style=\"text-align: right;\">\n",
       "      <th></th>\n",
       "      <th>open</th>\n",
       "      <th>low</th>\n",
       "      <th>high</th>\n",
       "    </tr>\n",
       "  </thead>\n",
       "  <tbody>\n",
       "    <tr>\n",
       "      <th>0</th>\n",
       "      <td>0.012001</td>\n",
       "      <td>0.012392</td>\n",
       "      <td>0.010256</td>\n",
       "    </tr>\n",
       "    <tr>\n",
       "      <th>1</th>\n",
       "      <td>0.009539</td>\n",
       "      <td>0.008387</td>\n",
       "      <td>0.005746</td>\n",
       "    </tr>\n",
       "    <tr>\n",
       "      <th>2</th>\n",
       "      <td>0.008000</td>\n",
       "      <td>0.010452</td>\n",
       "      <td>0.008649</td>\n",
       "    </tr>\n",
       "    <tr>\n",
       "      <th>3</th>\n",
       "      <td>0.004923</td>\n",
       "      <td>0.007323</td>\n",
       "      <td>0.007167</td>\n",
       "    </tr>\n",
       "    <tr>\n",
       "      <th>4</th>\n",
       "      <td>0.009231</td>\n",
       "      <td>0.010827</td>\n",
       "      <td>0.008897</td>\n",
       "    </tr>\n",
       "  </tbody>\n",
       "</table>\n",
       "</div>"
      ],
      "text/plain": [
       "       open       low      high\n",
       "0  0.012001  0.012392  0.010256\n",
       "1  0.009539  0.008387  0.005746\n",
       "2  0.008000  0.010452  0.008649\n",
       "3  0.004923  0.007323  0.007167\n",
       "4  0.009231  0.010827  0.008897"
      ]
     },
     "execution_count": 13,
     "metadata": {},
     "output_type": "execute_result"
    }
   ],
   "source": [
    "from sklearn.preprocessing import MinMaxScaler\n",
    "\n",
    "scaler = MinMaxScaler()\n",
    "X = pd.DataFrame(scaler.fit_transform(X), columns=X.columns)\n",
    "X.head()"
   ]
  },
  {
   "cell_type": "markdown",
   "id": "desperate-collins",
   "metadata": {
    "papermill": {
     "duration": 0.025353,
     "end_time": "2023-08-27T08:59:36.417425",
     "exception": false,
     "start_time": "2023-08-27T08:59:36.392072",
     "status": "completed"
    },
    "tags": []
   },
   "source": [
    "## Prediction Model"
   ]
  },
  {
   "cell_type": "code",
   "execution_count": 14,
   "id": "typical-costs",
   "metadata": {
    "execution": {
     "iopub.execute_input": "2023-08-27T08:59:36.474521Z",
     "iopub.status.busy": "2023-08-27T08:59:36.473919Z",
     "iopub.status.idle": "2023-08-27T08:59:36.552815Z",
     "shell.execute_reply": "2023-08-27T08:59:36.552300Z"
    },
    "papermill": {
     "duration": 0.109647,
     "end_time": "2023-08-27T08:59:36.552966",
     "exception": false,
     "start_time": "2023-08-27T08:59:36.443319",
     "status": "completed"
    },
    "tags": []
   },
   "outputs": [],
   "source": [
    "#now lets split data in test train pairs\n",
    "\n",
    "from sklearn.model_selection import train_test_split\n",
    "\n",
    "X_train, X_test, y_train, y_test = train_test_split(X, y, test_size = 0.2, shuffle=False)\n",
    "\n",
    "Acc = []"
   ]
  },
  {
   "cell_type": "markdown",
   "id": "alien-enzyme",
   "metadata": {
    "papermill": {
     "duration": 0.025941,
     "end_time": "2023-08-27T08:59:36.607092",
     "exception": false,
     "start_time": "2023-08-27T08:59:36.581151",
     "status": "completed"
    },
    "tags": []
   },
   "source": [
    "### 1. Linear Regression"
   ]
  },
  {
   "cell_type": "code",
   "execution_count": 15,
   "id": "excellent-powder",
   "metadata": {
    "execution": {
     "iopub.execute_input": "2023-08-27T08:59:36.662849Z",
     "iopub.status.busy": "2023-08-27T08:59:36.662353Z",
     "iopub.status.idle": "2023-08-27T08:59:36.784224Z",
     "shell.execute_reply": "2023-08-27T08:59:36.783589Z"
    },
    "papermill": {
     "duration": 0.151479,
     "end_time": "2023-08-27T08:59:36.784364",
     "exception": false,
     "start_time": "2023-08-27T08:59:36.632885",
     "status": "completed"
    },
    "tags": []
   },
   "outputs": [
    {
     "data": {
      "text/plain": [
       "LinearRegression()"
      ]
     },
     "execution_count": 15,
     "metadata": {},
     "output_type": "execute_result"
    }
   ],
   "source": [
    "from sklearn.linear_model import LinearRegression\n",
    "\n",
    "# model training\n",
    "\n",
    "model_1 = LinearRegression()\n",
    "model_1.fit(X_train, y_train)"
   ]
  },
  {
   "cell_type": "code",
   "execution_count": 16,
   "id": "sufficient-affiliate",
   "metadata": {
    "execution": {
     "iopub.execute_input": "2023-08-27T08:59:36.849350Z",
     "iopub.status.busy": "2023-08-27T08:59:36.848709Z",
     "iopub.status.idle": "2023-08-27T08:59:36.853076Z",
     "shell.execute_reply": "2023-08-27T08:59:36.852460Z"
    },
    "papermill": {
     "duration": 0.042378,
     "end_time": "2023-08-27T08:59:36.853238",
     "exception": false,
     "start_time": "2023-08-27T08:59:36.810860",
     "status": "completed"
    },
    "tags": []
   },
   "outputs": [
    {
     "data": {
      "text/html": [
       "<div>\n",
       "<style scoped>\n",
       "    .dataframe tbody tr th:only-of-type {\n",
       "        vertical-align: middle;\n",
       "    }\n",
       "\n",
       "    .dataframe tbody tr th {\n",
       "        vertical-align: top;\n",
       "    }\n",
       "\n",
       "    .dataframe thead th {\n",
       "        text-align: right;\n",
       "    }\n",
       "</style>\n",
       "<table border=\"1\" class=\"dataframe\">\n",
       "  <thead>\n",
       "    <tr style=\"text-align: right;\">\n",
       "      <th></th>\n",
       "      <th>Actual</th>\n",
       "      <th>Predicted</th>\n",
       "    </tr>\n",
       "  </thead>\n",
       "  <tbody>\n",
       "    <tr>\n",
       "      <th>675111</th>\n",
       "      <td>173.660004</td>\n",
       "      <td>173.682489</td>\n",
       "    </tr>\n",
       "    <tr>\n",
       "      <th>675608</th>\n",
       "      <td>171.919998</td>\n",
       "      <td>172.593759</td>\n",
       "    </tr>\n",
       "    <tr>\n",
       "      <th>676105</th>\n",
       "      <td>172.000000</td>\n",
       "      <td>171.182789</td>\n",
       "    </tr>\n",
       "    <tr>\n",
       "      <th>676602</th>\n",
       "      <td>187.789993</td>\n",
       "      <td>187.980305</td>\n",
       "    </tr>\n",
       "    <tr>\n",
       "      <th>677099</th>\n",
       "      <td>187.029999</td>\n",
       "      <td>188.440838</td>\n",
       "    </tr>\n",
       "  </tbody>\n",
       "</table>\n",
       "</div>"
      ],
      "text/plain": [
       "            Actual   Predicted\n",
       "675111  173.660004  173.682489\n",
       "675608  171.919998  172.593759\n",
       "676105  172.000000  171.182789\n",
       "676602  187.789993  187.980305\n",
       "677099  187.029999  188.440838"
      ]
     },
     "execution_count": 16,
     "metadata": {},
     "output_type": "execute_result"
    }
   ],
   "source": [
    "# prediction\n",
    "y_pred_1 = model_1.predict(X_test)\n",
    "pred_df = pd.DataFrame({'Actual': y_test, 'Predicted': y_pred_1})\n",
    "pred_df.head()"
   ]
  },
  {
   "cell_type": "code",
   "execution_count": 17,
   "id": "handmade-variety",
   "metadata": {
    "execution": {
     "iopub.execute_input": "2023-08-27T08:59:36.915107Z",
     "iopub.status.busy": "2023-08-27T08:59:36.914414Z",
     "iopub.status.idle": "2023-08-27T08:59:36.918562Z",
     "shell.execute_reply": "2023-08-27T08:59:36.917979Z"
    },
    "papermill": {
     "duration": 0.037673,
     "end_time": "2023-08-27T08:59:36.918719",
     "exception": false,
     "start_time": "2023-08-27T08:59:36.881046",
     "status": "completed"
    },
    "tags": []
   },
   "outputs": [
    {
     "name": "stdout",
     "output_type": "stream",
     "text": [
      "Accuracy score of the predictions: 0.9931342019332019\n"
     ]
    }
   ],
   "source": [
    "# Measure the Accuracy Score\n",
    "\n",
    "from sklearn.metrics import r2_score\n",
    " \n",
    "print(\"Accuracy score of the predictions: {0}\".format(r2_score(y_test, y_pred_1)))\n",
    "Acc.append(r2_score(y_test, y_pred_1))"
   ]
  },
  {
   "cell_type": "code",
   "execution_count": 18,
   "id": "useful-baptist",
   "metadata": {
    "execution": {
     "iopub.execute_input": "2023-08-27T08:59:37.028816Z",
     "iopub.status.busy": "2023-08-27T08:59:37.026863Z",
     "iopub.status.idle": "2023-08-27T08:59:37.146965Z",
     "shell.execute_reply": "2023-08-27T08:59:37.146491Z"
    },
    "papermill": {
     "duration": 0.201214,
     "end_time": "2023-08-27T08:59:37.147147",
     "exception": false,
     "start_time": "2023-08-27T08:59:36.945933",
     "status": "completed"
    },
    "tags": []
   },
   "outputs": [
    {
     "data": {
      "image/png": "[encoded data removed]",
      "text/plain": [
       "<Figure size 576x576 with 1 Axes>"
      ]
     },
     "metadata": {
      "needs_background": "light"
     },
     "output_type": "display_data"
    }
   ],
   "source": [
    "plt.figure(figsize=(8,8))\n",
    "plt.ylabel('Close Price', fontsize=16)\n",
    "plt.plot(pred_df)\n",
    "plt.legend(['Actual Value', 'Predictions'])\n",
    "plt.show()"
   ]
  },
  {
   "cell_type": "markdown",
   "id": "engaged-bench",
   "metadata": {
    "papermill": {
     "duration": 0.029191,
     "end_time": "2023-08-27T08:59:37.205352",
     "exception": false,
     "start_time": "2023-08-27T08:59:37.176161",
     "status": "completed"
    },
    "tags": []
   },
   "source": [
    "### 2. ANN"
   ]
  },
  {
   "cell_type": "code",
   "execution_count": 19,
   "id": "vocal-crystal",
   "metadata": {
    "execution": {
     "iopub.execute_input": "2023-08-27T08:59:37.269165Z",
     "iopub.status.busy": "2023-08-27T08:59:37.268393Z",
     "iopub.status.idle": "2023-08-27T08:59:43.638895Z",
     "shell.execute_reply": "2023-08-27T08:59:43.638361Z"
    },
    "papermill": {
     "duration": 6.405449,
     "end_time": "2023-08-27T08:59:43.639076",
     "exception": false,
     "start_time": "2023-08-27T08:59:37.233627",
     "status": "completed"
    },
    "tags": []
   },
   "outputs": [],
   "source": [
    "# Model Creation\n",
    "\n",
    "from keras.models import Sequential\n",
    "from keras.layers import Dense\n",
    "\n",
    "def regressor(inp_dim):\n",
    "    \n",
    "    model = Sequential()\n",
    "    \n",
    "    model.add(Dense(20, input_dim=inp_dim, kernel_initializer='normal', activation='relu'))\n",
    "    model.add(Dense(25, kernel_initializer='normal', activation='relu'))\n",
    "    model.add(Dense(10, kernel_initializer='normal', activation='relu'))\n",
    "    model.add(Dense(1, kernel_initializer='normal'))\n",
    "    \n",
    "    model.compile(loss='mean_squared_error', optimizer='adam')\n",
    "    \n",
    "    return model"
   ]
  },
  {
   "cell_type": "code",
   "execution_count": 20,
   "id": "surprising-emission",
   "metadata": {
    "execution": {
     "iopub.execute_input": "2023-08-27T08:59:43.700898Z",
     "iopub.status.busy": "2023-08-27T08:59:43.700386Z",
     "iopub.status.idle": "2023-08-27T08:59:51.814698Z",
     "shell.execute_reply": "2023-08-27T08:59:51.815176Z"
    },
    "papermill": {
     "duration": 8.146227,
     "end_time": "2023-08-27T08:59:51.815346",
     "exception": false,
     "start_time": "2023-08-27T08:59:43.669119",
     "status": "completed"
    },
    "tags": []
   },
   "outputs": [
    {
     "name": "stdout",
     "output_type": "stream",
     "text": [
      "Epoch 1/70\n",
      "36/36 [==============================] - 1s 14ms/step - loss: 6081.5518 - val_loss: 22085.0098\n",
      "Epoch 2/70\n",
      "36/36 [==============================] - 0s 3ms/step - loss: 6030.8916 - val_loss: 22000.4102\n",
      "Epoch 3/70\n",
      "36/36 [==============================] - 0s 3ms/step - loss: 6011.2013 - val_loss: 21586.6074\n",
      "Epoch 4/70\n",
      "36/36 [==============================] - 0s 3ms/step - loss: 5823.6767 - val_loss: 20221.5781\n",
      "Epoch 5/70\n",
      "36/36 [==============================] - 0s 3ms/step - loss: 5322.0593 - val_loss: 17011.8770\n",
      "Epoch 6/70\n",
      "36/36 [==============================] - 0s 3ms/step - loss: 4165.6553 - val_loss: 11525.0713\n",
      "Epoch 7/70\n",
      "36/36 [==============================] - 0s 3ms/step - loss: 2476.0902 - val_loss: 5151.7866\n",
      "Epoch 8/70\n",
      "36/36 [==============================] - 0s 3ms/step - loss: 768.1408 - val_loss: 1174.0548\n",
      "Epoch 9/70\n",
      "36/36 [==============================] - 0s 3ms/step - loss: 84.3737 - val_loss: 245.7488\n",
      "Epoch 10/70\n",
      "36/36 [==============================] - 0s 3ms/step - loss: 22.8499 - val_loss: 203.8139\n",
      "Epoch 11/70\n",
      "36/36 [==============================] - 0s 2ms/step - loss: 20.8486 - val_loss: 196.2726\n",
      "Epoch 12/70\n",
      "36/36 [==============================] - 0s 3ms/step - loss: 19.6431 - val_loss: 186.1329\n",
      "Epoch 13/70\n",
      "36/36 [==============================] - 0s 3ms/step - loss: 18.7351 - val_loss: 175.9982\n",
      "Epoch 14/70\n",
      "36/36 [==============================] - 0s 2ms/step - loss: 17.3766 - val_loss: 160.2219\n",
      "Epoch 15/70\n",
      "36/36 [==============================] - 0s 3ms/step - loss: 16.0052 - val_loss: 147.2944\n",
      "Epoch 16/70\n",
      "36/36 [==============================] - 0s 2ms/step - loss: 15.5834 - val_loss: 138.2677\n",
      "Epoch 17/70\n",
      "36/36 [==============================] - 0s 3ms/step - loss: 14.4218 - val_loss: 122.3656\n",
      "Epoch 18/70\n",
      "36/36 [==============================] - 0s 3ms/step - loss: 12.3933 - val_loss: 110.2422\n",
      "Epoch 19/70\n",
      "36/36 [==============================] - 0s 3ms/step - loss: 10.8372 - val_loss: 98.0975\n",
      "Epoch 20/70\n",
      "36/36 [==============================] - 0s 3ms/step - loss: 10.1368 - val_loss: 89.6460\n",
      "Epoch 21/70\n",
      "36/36 [==============================] - 0s 3ms/step - loss: 9.2437 - val_loss: 81.7299\n",
      "Epoch 22/70\n",
      "36/36 [==============================] - 0s 3ms/step - loss: 8.1371 - val_loss: 72.9376\n",
      "Epoch 23/70\n",
      "36/36 [==============================] - 0s 3ms/step - loss: 7.7456 - val_loss: 64.6270\n",
      "Epoch 24/70\n",
      "36/36 [==============================] - 0s 3ms/step - loss: 6.5773 - val_loss: 59.0672\n",
      "Epoch 25/70\n",
      "36/36 [==============================] - 0s 3ms/step - loss: 5.7215 - val_loss: 50.1974\n",
      "Epoch 26/70\n",
      "36/36 [==============================] - 0s 3ms/step - loss: 5.1383 - val_loss: 43.6284\n",
      "Epoch 27/70\n",
      "36/36 [==============================] - 0s 3ms/step - loss: 4.7135 - val_loss: 37.2192\n",
      "Epoch 28/70\n",
      "36/36 [==============================] - 0s 3ms/step - loss: 3.9348 - val_loss: 33.7813\n",
      "Epoch 29/70\n",
      "36/36 [==============================] - 0s 3ms/step - loss: 3.5295 - val_loss: 29.6512\n",
      "Epoch 30/70\n",
      "36/36 [==============================] - 0s 3ms/step - loss: 3.4407 - val_loss: 26.3787\n",
      "Epoch 31/70\n",
      "36/36 [==============================] - 0s 3ms/step - loss: 2.8030 - val_loss: 21.2044\n",
      "Epoch 32/70\n",
      "36/36 [==============================] - 0s 3ms/step - loss: 2.2205 - val_loss: 18.8121\n",
      "Epoch 33/70\n",
      "36/36 [==============================] - 0s 2ms/step - loss: 2.0901 - val_loss: 16.4868\n",
      "Epoch 34/70\n",
      "36/36 [==============================] - 0s 3ms/step - loss: 1.8506 - val_loss: 13.6979\n",
      "Epoch 35/70\n",
      "36/36 [==============================] - 0s 3ms/step - loss: 1.5727 - val_loss: 11.5868\n",
      "Epoch 36/70\n",
      "36/36 [==============================] - 0s 3ms/step - loss: 1.5007 - val_loss: 9.8658\n",
      "Epoch 37/70\n",
      "36/36 [==============================] - 0s 3ms/step - loss: 1.3132 - val_loss: 9.2062\n",
      "Epoch 38/70\n",
      "36/36 [==============================] - 0s 3ms/step - loss: 1.0896 - val_loss: 7.9276\n",
      "Epoch 39/70\n",
      "36/36 [==============================] - 0s 2ms/step - loss: 0.9864 - val_loss: 6.5930\n",
      "Epoch 40/70\n",
      "36/36 [==============================] - 0s 3ms/step - loss: 0.8807 - val_loss: 6.0360\n",
      "Epoch 41/70\n",
      "36/36 [==============================] - 0s 3ms/step - loss: 0.8143 - val_loss: 5.2107\n",
      "Epoch 42/70\n",
      "36/36 [==============================] - 0s 2ms/step - loss: 0.6949 - val_loss: 4.4160\n",
      "Epoch 43/70\n",
      "36/36 [==============================] - 0s 3ms/step - loss: 0.6500 - val_loss: 3.8790\n",
      "Epoch 44/70\n",
      "36/36 [==============================] - 0s 3ms/step - loss: 0.6007 - val_loss: 3.5776\n",
      "Epoch 45/70\n",
      "36/36 [==============================] - 0s 3ms/step - loss: 0.6091 - val_loss: 3.1640\n",
      "Epoch 46/70\n",
      "36/36 [==============================] - 0s 3ms/step - loss: 0.5511 - val_loss: 2.9399\n",
      "Epoch 47/70\n",
      "36/36 [==============================] - 0s 3ms/step - loss: 0.6474 - val_loss: 2.7371\n",
      "Epoch 48/70\n",
      "36/36 [==============================] - 0s 3ms/step - loss: 0.4943 - val_loss: 2.4979\n",
      "Epoch 49/70\n",
      "36/36 [==============================] - 0s 3ms/step - loss: 0.4793 - val_loss: 2.3109\n",
      "Epoch 50/70\n",
      "36/36 [==============================] - 0s 3ms/step - loss: 0.4636 - val_loss: 2.1224\n",
      "Epoch 51/70\n",
      "36/36 [==============================] - 0s 3ms/step - loss: 0.5111 - val_loss: 2.2311\n",
      "Epoch 52/70\n",
      "36/36 [==============================] - 0s 3ms/step - loss: 0.4660 - val_loss: 2.0185\n",
      "Epoch 53/70\n",
      "36/36 [==============================] - 0s 3ms/step - loss: 0.4847 - val_loss: 1.9406\n",
      "Epoch 54/70\n",
      "36/36 [==============================] - 0s 3ms/step - loss: 0.5538 - val_loss: 2.0435\n",
      "Epoch 55/70\n",
      "36/36 [==============================] - 0s 3ms/step - loss: 0.4049 - val_loss: 1.8217\n",
      "Epoch 56/70\n",
      "36/36 [==============================] - 0s 3ms/step - loss: 0.4231 - val_loss: 1.8957\n",
      "Epoch 57/70\n",
      "36/36 [==============================] - 0s 3ms/step - loss: 0.4374 - val_loss: 1.8708\n",
      "Epoch 58/70\n",
      "36/36 [==============================] - 0s 3ms/step - loss: 0.4646 - val_loss: 1.8216\n",
      "Epoch 59/70\n",
      "36/36 [==============================] - 0s 3ms/step - loss: 0.4413 - val_loss: 1.8243\n",
      "Epoch 60/70\n",
      "36/36 [==============================] - 0s 4ms/step - loss: 0.4709 - val_loss: 1.8296\n",
      "Epoch 61/70\n",
      "36/36 [==============================] - 0s 3ms/step - loss: 0.4602 - val_loss: 1.7987\n",
      "Epoch 62/70\n",
      "36/36 [==============================] - 0s 2ms/step - loss: 0.4406 - val_loss: 1.9271\n",
      "Epoch 63/70\n",
      "36/36 [==============================] - 0s 3ms/step - loss: 0.4563 - val_loss: 1.8449\n",
      "Epoch 64/70\n",
      "36/36 [==============================] - 0s 3ms/step - loss: 0.4648 - val_loss: 1.7780\n",
      "Epoch 65/70\n",
      "36/36 [==============================] - 0s 3ms/step - loss: 0.4910 - val_loss: 1.7823\n",
      "Epoch 66/70\n",
      "36/36 [==============================] - 0s 3ms/step - loss: 0.3735 - val_loss: 1.7674\n",
      "Epoch 67/70\n",
      "36/36 [==============================] - 0s 3ms/step - loss: 0.4833 - val_loss: 1.7529\n",
      "Epoch 68/70\n",
      "36/36 [==============================] - 0s 3ms/step - loss: 0.4301 - val_loss: 1.8194\n",
      "Epoch 69/70\n",
      "36/36 [==============================] - 0s 3ms/step - loss: 0.4919 - val_loss: 1.7395\n",
      "Epoch 70/70\n",
      "36/36 [==============================] - 0s 3ms/step - loss: 0.4644 - val_loss: 1.7855\n"
     ]
    },
    {
     "data": {
      "text/plain": [
       "<tensorflow.python.keras.callbacks.History at 0x78147829bad0>"
      ]
     },
     "execution_count": 20,
     "metadata": {},
     "output_type": "execute_result"
    }
   ],
   "source": [
    "# Model Training\n",
    "\n",
    "model_2 = regressor(inp_dim=3)\n",
    "model_2.fit(X_train, y_train, epochs=70, validation_split=0.2)"
   ]
  },
  {
   "cell_type": "code",
   "execution_count": 21,
   "id": "facial-progressive",
   "metadata": {
    "execution": {
     "iopub.execute_input": "2023-08-27T08:59:51.955042Z",
     "iopub.status.busy": "2023-08-27T08:59:51.954386Z",
     "iopub.status.idle": "2023-08-27T08:59:52.072642Z",
     "shell.execute_reply": "2023-08-27T08:59:52.073402Z"
    },
    "papermill": {
     "duration": 0.189886,
     "end_time": "2023-08-27T08:59:52.073583",
     "exception": false,
     "start_time": "2023-08-27T08:59:51.883697",
     "status": "completed"
    },
    "tags": []
   },
   "outputs": [],
   "source": [
    "# Prediction\n",
    "\n",
    "y_pred_2 = model_2.predict(X_test)"
   ]
  },
  {
   "cell_type": "code",
   "execution_count": 22,
   "id": "toxic-commission",
   "metadata": {
    "execution": {
     "iopub.execute_input": "2023-08-27T08:59:52.222715Z",
     "iopub.status.busy": "2023-08-27T08:59:52.221834Z",
     "iopub.status.idle": "2023-08-27T08:59:52.227339Z",
     "shell.execute_reply": "2023-08-27T08:59:52.226683Z"
    },
    "papermill": {
     "duration": 0.085123,
     "end_time": "2023-08-27T08:59:52.227486",
     "exception": false,
     "start_time": "2023-08-27T08:59:52.142363",
     "status": "completed"
    },
    "tags": []
   },
   "outputs": [
    {
     "data": {
      "text/html": [
       "<div>\n",
       "<style scoped>\n",
       "    .dataframe tbody tr th:only-of-type {\n",
       "        vertical-align: middle;\n",
       "    }\n",
       "\n",
       "    .dataframe tbody tr th {\n",
       "        vertical-align: top;\n",
       "    }\n",
       "\n",
       "    .dataframe thead th {\n",
       "        text-align: right;\n",
       "    }\n",
       "</style>\n",
       "<table border=\"1\" class=\"dataframe\">\n",
       "  <thead>\n",
       "    <tr style=\"text-align: right;\">\n",
       "      <th></th>\n",
       "      <th>Actual</th>\n",
       "      <th>Predicted</th>\n",
       "    </tr>\n",
       "  </thead>\n",
       "  <tbody>\n",
       "    <tr>\n",
       "      <th>675111</th>\n",
       "      <td>173.660004</td>\n",
       "      <td>174.153519</td>\n",
       "    </tr>\n",
       "    <tr>\n",
       "      <th>675608</th>\n",
       "      <td>171.919998</td>\n",
       "      <td>172.465057</td>\n",
       "    </tr>\n",
       "    <tr>\n",
       "      <th>676105</th>\n",
       "      <td>172.000000</td>\n",
       "      <td>170.682922</td>\n",
       "    </tr>\n",
       "    <tr>\n",
       "      <th>676602</th>\n",
       "      <td>187.789993</td>\n",
       "      <td>179.506378</td>\n",
       "    </tr>\n",
       "    <tr>\n",
       "      <th>677099</th>\n",
       "      <td>187.029999</td>\n",
       "      <td>188.215500</td>\n",
       "    </tr>\n",
       "  </tbody>\n",
       "</table>\n",
       "</div>"
      ],
      "text/plain": [
       "            Actual   Predicted\n",
       "675111  173.660004  174.153519\n",
       "675608  171.919998  172.465057\n",
       "676105  172.000000  170.682922\n",
       "676602  187.789993  179.506378\n",
       "677099  187.029999  188.215500"
      ]
     },
     "execution_count": 22,
     "metadata": {},
     "output_type": "execute_result"
    }
   ],
   "source": [
    "pred_df = pd.DataFrame({'Actual': y_test, 'Predicted': y_pred_2.flatten()})\n",
    "pred_df.head()"
   ]
  },
  {
   "cell_type": "code",
   "execution_count": 23,
   "id": "royal-round",
   "metadata": {
    "execution": {
     "iopub.execute_input": "2023-08-27T08:59:52.374713Z",
     "iopub.status.busy": "2023-08-27T08:59:52.373837Z",
     "iopub.status.idle": "2023-08-27T08:59:52.377735Z",
     "shell.execute_reply": "2023-08-27T08:59:52.378189Z"
    },
    "papermill": {
     "duration": 0.080816,
     "end_time": "2023-08-27T08:59:52.378366",
     "exception": false,
     "start_time": "2023-08-27T08:59:52.297550",
     "status": "completed"
    },
    "tags": []
   },
   "outputs": [
    {
     "name": "stdout",
     "output_type": "stream",
     "text": [
      "Accuracy score of the predictions: 0.9877316090902418\n"
     ]
    }
   ],
   "source": [
    "# Measure the Accuracy Score\n",
    "\n",
    "from sklearn.metrics import r2_score\n",
    " \n",
    "print(\"Accuracy score of the predictions: {0}\".format(r2_score(y_test, y_pred_2)))\n",
    "Acc.append(r2_score(y_test, y_pred_2))"
   ]
  },
  {
   "cell_type": "code",
   "execution_count": 24,
   "id": "amber-taiwan",
   "metadata": {
    "execution": {
     "iopub.execute_input": "2023-08-27T08:59:52.528544Z",
     "iopub.status.busy": "2023-08-27T08:59:52.527679Z",
     "iopub.status.idle": "2023-08-27T08:59:52.700178Z",
     "shell.execute_reply": "2023-08-27T08:59:52.700816Z"
    },
    "papermill": {
     "duration": 0.25095,
     "end_time": "2023-08-27T08:59:52.701030",
     "exception": false,
     "start_time": "2023-08-27T08:59:52.450080",
     "status": "completed"
    },
    "tags": []
   },
   "outputs": [
    {
     "data": {
      "image/png": "[encoded data removed]",
      "text/plain": [
       "<Figure size 576x576 with 1 Axes>"
      ]
     },
     "metadata": {
      "needs_background": "light"
     },
     "output_type": "display_data"
    }
   ],
   "source": [
    "plt.figure(figsize=(8,8))\n",
    "plt.ylabel('Close Price', fontsize=16)\n",
    "plt.plot(pred_df)\n",
    "plt.legend(['Actual Value', 'Predictions'])\n",
    "plt.show()"
   ]
  },
  {
   "cell_type": "markdown",
   "id": "binding-grace",
   "metadata": {
    "papermill": {
     "duration": 0.070366,
     "end_time": "2023-08-27T08:59:52.844124",
     "exception": false,
     "start_time": "2023-08-27T08:59:52.773758",
     "status": "completed"
    },
    "tags": []
   },
   "source": [
    "> Comparision of Accuracies of different models"
   ]
  },
  {
   "cell_type": "code",
   "execution_count": 25,
   "id": "manufactured-cooperation",
   "metadata": {
    "execution": {
     "iopub.execute_input": "2023-08-27T08:59:53.171399Z",
     "iopub.status.busy": "2023-08-27T08:59:53.170546Z",
     "iopub.status.idle": "2023-08-27T08:59:53.268938Z",
     "shell.execute_reply": "2023-08-27T08:59:53.267522Z"
    },
    "papermill": {
     "duration": 0.352286,
     "end_time": "2023-08-27T08:59:53.269139",
     "exception": false,
     "start_time": "2023-08-27T08:59:52.916853",
     "status": "completed"
    },
    "tags": []
   },
   "outputs": [
    {
     "data": {
      "image/png": "[encoded data removed]",
      "text/plain": [
       "<Figure size 432x288 with 1 Axes>"
      ]
     },
     "metadata": {
      "needs_background": "light"
     },
     "output_type": "display_data"
    }
   ],
   "source": [
    "plt.plot(range(2), Acc, color='green', linestyle='dashed', linewidth = 3, \n",
    "         marker='o', markerfacecolor='blue', markersize=12) \n",
    "plt.ylabel('Acc')\n",
    "plt.xlabel('Models')\n",
    "plt.title(\"Accuracies\")\n",
    "plt.xticks(range(2), ['Linear Regression', 'ANN'])\n",
    "plt.show()"
   ]
  },
  {
   "cell_type": "markdown",
   "id": "norman-there",
   "metadata": {
    "papermill": {
     "duration": 0.072291,
     "end_time": "2023-08-27T08:59:53.414901",
     "exception": false,
     "start_time": "2023-08-27T08:59:53.342610",
     "status": "completed"
    },
    "tags": []
   },
   "source": [
    "**********************"
   ]
  }
 ],
 "metadata": {
  "kernelspec": {
   "display_name": "Python 3",
   "language": "python",
   "name": "python3"
  },
  "language_info": {
   "codemirror_mode": {
    "name": "ipython",
    "version": 3
   },
   "file_extension": ".py",
   "mimetype": "text/x-python",
   "name": "python",
   "nbconvert_exporter": "python",
   "pygments_lexer": "ipython3",
   "version": "3.7.9"
  },
  "papermill": {
   "default_parameters": {},
   "duration": 30.948131,
   "end_time": "2023-08-27T08:59:54.700358",
   "environment_variables": {},
   "exception": null,
   "input_path": "__notebook__.ipynb",
   "output_path": "__notebook__.ipynb",
   "parameters": {},
   "start_time": "2023-08-27T08:59:23.752227",
   "version": "2.3.2"
  }
 },
 "nbformat": 4,
 "nbformat_minor": 5
}
